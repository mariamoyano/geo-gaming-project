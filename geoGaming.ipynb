{
 "cells": [
  {
   "cell_type": "code",
   "execution_count": 14,
   "metadata": {},
   "outputs": [],
   "source": [
    "from src.cleanfunctions import *\n",
    "from src.geofunctions import *\n",
    "from src.apiCalls import *\n",
    "from pymongo import MongoClient\n",
    "import pandas as pd\n",
    "import folium\n",
    "from folium.plugins import HeatMap, MarkerCluster,FastMarkerCluster"
   ]
  },
  {
   "cell_type": "code",
   "execution_count": 15,
   "metadata": {},
   "outputs": [],
   "source": [
    "client = MongoClient(\"mongodb://localhost/companies\")\n",
    "db = client.get_database()\n",
    "company_processed = clean(db)\n"
   ]
  },
  {
   "cell_type": "markdown",
   "metadata": {},
   "source": [
    "# Near successful tech(raised>1M)"
   ]
  },
  {
   "cell_type": "markdown",
   "metadata": {},
   "source": [
    "QUERIES\n",
    "Developers like to be near successful tech startups that have raised at least 1 Million dollars."
   ]
  },
  {
   "cell_type": "code",
   "execution_count": 65,
   "metadata": {},
   "outputs": [
    {
     "data": {
      "text/html": [
       "<div>\n",
       "<style scoped>\n",
       "    .dataframe tbody tr th:only-of-type {\n",
       "        vertical-align: middle;\n",
       "    }\n",
       "\n",
       "    .dataframe tbody tr th {\n",
       "        vertical-align: top;\n",
       "    }\n",
       "\n",
       "    .dataframe thead th {\n",
       "        text-align: right;\n",
       "    }\n",
       "</style>\n",
       "<table border=\"1\" class=\"dataframe\">\n",
       "  <thead>\n",
       "    <tr style=\"text-align: right;\">\n",
       "      <th></th>\n",
       "      <th>name</th>\n",
       "      <th>category_code</th>\n",
       "      <th>office</th>\n",
       "      <th>clean_state</th>\n",
       "      <th>city</th>\n",
       "      <th>country_code</th>\n",
       "      <th>latitude</th>\n",
       "      <th>longitude</th>\n",
       "      <th>total_money_raised</th>\n",
       "    </tr>\n",
       "  </thead>\n",
       "  <tbody>\n",
       "    <tr>\n",
       "      <th>0</th>\n",
       "      <td>Wetpaint</td>\n",
       "      <td>web</td>\n",
       "      <td>{'type': 'Point', 'coordinates': [-122.333253,...</td>\n",
       "      <td>success</td>\n",
       "      <td>Seattle</td>\n",
       "      <td>USA</td>\n",
       "      <td>47.603122</td>\n",
       "      <td>-122.333253</td>\n",
       "      <td>$39.8M</td>\n",
       "    </tr>\n",
       "    <tr>\n",
       "      <th>1</th>\n",
       "      <td>Digg</td>\n",
       "      <td>news</td>\n",
       "      <td>{'type': 'Point', 'coordinates': [-122.394523,...</td>\n",
       "      <td>success</td>\n",
       "      <td>San Francisco</td>\n",
       "      <td>USA</td>\n",
       "      <td>37.764726</td>\n",
       "      <td>-122.394523</td>\n",
       "      <td>$45M</td>\n",
       "    </tr>\n",
       "    <tr>\n",
       "      <th>2</th>\n",
       "      <td>Slacker</td>\n",
       "      <td>music</td>\n",
       "      <td>{'type': 'Point', 'coordinates': [-117.081406,...</td>\n",
       "      <td>success</td>\n",
       "      <td>San Diego</td>\n",
       "      <td>USA</td>\n",
       "      <td>33.022176</td>\n",
       "      <td>-117.081406</td>\n",
       "      <td>$73.1M</td>\n",
       "    </tr>\n",
       "    <tr>\n",
       "      <th>3</th>\n",
       "      <td>Gizmoz</td>\n",
       "      <td>web</td>\n",
       "      <td>{'type': 'Point', 'coordinates': [-122.169472,...</td>\n",
       "      <td>success</td>\n",
       "      <td>Menlo Park</td>\n",
       "      <td>USA</td>\n",
       "      <td>37.484130</td>\n",
       "      <td>-122.169472</td>\n",
       "      <td>$18.1M</td>\n",
       "    </tr>\n",
       "    <tr>\n",
       "      <th>4</th>\n",
       "      <td>Lala</td>\n",
       "      <td>games_video</td>\n",
       "      <td>{'type': 'Point', 'coordinates': [-122.154369,...</td>\n",
       "      <td>success</td>\n",
       "      <td>Palo Alto</td>\n",
       "      <td>USA</td>\n",
       "      <td>37.451151</td>\n",
       "      <td>-122.154369</td>\n",
       "      <td>$44.2M</td>\n",
       "    </tr>\n",
       "  </tbody>\n",
       "</table>\n",
       "</div>"
      ],
      "text/plain": [
       "       name category_code                                             office  \\\n",
       "0  Wetpaint           web  {'type': 'Point', 'coordinates': [-122.333253,...   \n",
       "1      Digg          news  {'type': 'Point', 'coordinates': [-122.394523,...   \n",
       "2   Slacker         music  {'type': 'Point', 'coordinates': [-117.081406,...   \n",
       "3    Gizmoz           web  {'type': 'Point', 'coordinates': [-122.169472,...   \n",
       "4      Lala   games_video  {'type': 'Point', 'coordinates': [-122.154369,...   \n",
       "\n",
       "  clean_state           city country_code   latitude   longitude  \\\n",
       "0     success        Seattle          USA  47.603122 -122.333253   \n",
       "1     success  San Francisco          USA  37.764726 -122.394523   \n",
       "2     success      San Diego          USA  33.022176 -117.081406   \n",
       "3     success     Menlo Park          USA  37.484130 -122.169472   \n",
       "4     success      Palo Alto          USA  37.451151 -122.154369   \n",
       "\n",
       "  total_money_raised  \n",
       "0             $39.8M  \n",
       "1               $45M  \n",
       "2             $73.1M  \n",
       "3             $18.1M  \n",
       "4             $44.2M  "
      ]
     },
     "execution_count": 65,
     "metadata": {},
     "output_type": "execute_result"
    }
   ],
   "source": [
    "raised=list(db.companies_processed.find({\"total_money_raised\":{\"$regex\":\"M\"}},{\"_id\":0}))\n",
    "raisedDF=pd.DataFrame(raised)\n",
    "raisedDF.head(5)"
   ]
  },
  {
   "cell_type": "code",
   "execution_count": 17,
   "metadata": {},
   "outputs": [
    {
     "data": {
      "text/plain": [
       "San Francisco    276\n",
       "Name: city, dtype: int64"
      ]
     },
     "execution_count": 17,
     "metadata": {},
     "output_type": "execute_result"
    }
   ],
   "source": [
    "raisedDF = raisedDF[raisedDF['city'].isin(raisedDF['city'].value_counts()[raisedDF['city'].value_counts() >200].index)]\n",
    "raisedDF.city.value_counts()"
   ]
  },
  {
   "cell_type": "code",
   "execution_count": 18,
   "metadata": {},
   "outputs": [],
   "source": [
    "raised1M=raisedDF.to_json(\"OUTPUT/raisedMillon.json\",orient=\"records\")"
   ]
  },
  {
   "cell_type": "code",
   "execution_count": 19,
   "metadata": {},
   "outputs": [
    {
     "name": "stdout",
     "output_type": "stream",
     "text": [
      "APIKEY FOUND!!\n",
      "<Response [200]>\n"
     ]
    }
   ],
   "source": [
    "coordCity = geocode(\"San Francisco USA\")"
   ]
  },
  {
   "cell_type": "code",
   "execution_count": 20,
   "metadata": {},
   "outputs": [],
   "source": [
    "mapcoord =coordCity[\"coordinates\"]"
   ]
  },
  {
   "cell_type": "code",
   "execution_count": 21,
   "metadata": {},
   "outputs": [],
   "source": [
    "foliumMap = folium.Map(location=mapcoord)"
   ]
  },
  {
   "cell_type": "code",
   "execution_count": 22,
   "metadata": {
    "scrolled": true
   },
   "outputs": [
    {
     "data": {
      "text/html": [
       "<div style=\"width:100%;\"><div style=\"position:relative;width:100%;height:0;padding-bottom:60%;\"><iframe src=\"about:blank\" style=\"position:absolute;width:100%;height:100%;left:0;top:0;border:none !important;\" data-html=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 onload=\"this.contentDocument.open();this.contentDocument.write(atob(this.getAttribute('data-html')));this.contentDocument.close();\" allowfullscreen webkitallowfullscreen mozallowfullscreen></iframe></div></div>"
      ],
      "text/plain": [
       "<folium.folium.Map at 0x7fb4abe578d0>"
      ]
     },
     "execution_count": 22,
     "metadata": {},
     "output_type": "execute_result"
    }
   ],
   "source": [
    "foliumMap"
   ]
  },
  {
   "cell_type": "code",
   "execution_count": 23,
   "metadata": {},
   "outputs": [],
   "source": [
    "million = pd.read_json(\"OUTPUT/raisedMillon.json\")"
   ]
  },
  {
   "cell_type": "code",
   "execution_count": 24,
   "metadata": {},
   "outputs": [
    {
     "data": {
      "text/html": [
       "<div style=\"width:100%;\"><div style=\"position:relative;width:100%;height:0;padding-bottom:60%;\"><iframe src=\"about:blank\" style=\"position:absolute;width:100%;height:100%;left:0;top:0;border:none !important;\" data-html=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 onload=\"this.contentDocument.open();this.contentDocument.write(atob(this.getAttribute('data-html')));this.contentDocument.close();\" allowfullscreen webkitallowfullscreen mozallowfullscreen></iframe></div></div>"
      ],
      "text/plain": [
       "<folium.folium.Map at 0x7fb4abe578d0>"
      ]
     },
     "execution_count": 24,
     "metadata": {},
     "output_type": "execute_result"
    }
   ],
   "source": [
    "million=million.drop([\"office\"], axis=1)\n",
    "rM= folium.FeatureGroup(name='raisedMillion')\n",
    "FastMarkerCluster(million[['latitude', 'longitude']]).add_to(rM)\n",
    "rM.add_to(foliumMap)\n",
    "foliumMap"
   ]
  },
  {
   "cell_type": "markdown",
   "metadata": {},
   "source": [
    "# Airports"
   ]
  },
  {
   "cell_type": "markdown",
   "metadata": {},
   "source": [
    "QUERIES Account managers need to travel a lot. Search place with airports\n"
   ]
  },
  {
   "cell_type": "code",
   "execution_count": 25,
   "metadata": {},
   "outputs": [],
   "source": [
    "airportSF = getAirport(\"San Francisco\")\n"
   ]
  },
  {
   "cell_type": "code",
   "execution_count": 26,
   "metadata": {},
   "outputs": [],
   "source": [
    "airportSF =airportSF[\"response\"]\n",
    "airportSF =airportSF[\"venues\"]"
   ]
  },
  {
   "cell_type": "code",
   "execution_count": 50,
   "metadata": {},
   "outputs": [],
   "source": [
    "name = [(e[\"name\"]) for e in airportSF]\n",
    "loc = [(e[\"location\"]) for e in airportSF]"
   ]
  },
  {
   "cell_type": "code",
   "execution_count": 51,
   "metadata": {},
   "outputs": [],
   "source": [
    "lat=[]\n",
    "lng=[]\n",
    "for e in loc:\n",
    "    lat.append(e[\"lat\"])\n",
    "    lng.append(e[\"lng\"])"
   ]
  },
  {
   "cell_type": "code",
   "execution_count": 52,
   "metadata": {},
   "outputs": [],
   "source": [
    "airports= pd.DataFrame(name)\n",
    "airports[\"name\"]=name\n",
    "airports[\"latitude\"]=lat\n",
    "airports[\"longitude\"]=lng\n",
    "airports=airports.drop([0], axis=1)"
   ]
  },
  {
   "cell_type": "code",
   "execution_count": 53,
   "metadata": {},
   "outputs": [],
   "source": [
    "airports=pd.DataFrame(airports).to_json(\"OUTPUT/airports.json\",orient=\"records\")"
   ]
  },
  {
   "cell_type": "code",
   "execution_count": 54,
   "metadata": {},
   "outputs": [],
   "source": [
    "airFol = pd.read_json(\"OUTPUT/airports.json\")"
   ]
  },
  {
   "cell_type": "code",
   "execution_count": 55,
   "metadata": {},
   "outputs": [
    {
     "data": {
      "text/html": [
       "<div style=\"width:100%;\"><div style=\"position:relative;width:100%;height:0;padding-bottom:60%;\"><iframe src=\"about:blank\" style=\"position:absolute;width:100%;height:100%;left:0;top:0;border:none !important;\" data-html=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 onload=\"this.contentDocument.open();this.contentDocument.write(atob(this.getAttribute('data-html')));this.contentDocument.close();\" allowfullscreen webkitallowfullscreen mozallowfullscreen></iframe></div></div>"
      ],
      "text/plain": [
       "<folium.folium.Map at 0x7fb4abe578d0>"
      ]
     },
     "execution_count": 55,
     "metadata": {},
     "output_type": "execute_result"
    }
   ],
   "source": [
    "aF= folium.FeatureGroup(name='airports')\n",
    "MarkerCluster(airFol[['latitude', 'longitude']],popup=\"AIRPORT\").add_to(aF)\n",
    "aF.add_to(foliumMap)\n",
    "foliumMap"
   ]
  },
  {
   "cell_type": "markdown",
   "metadata": {},
   "source": [
    "# Starbucks"
   ]
  },
  {
   "cell_type": "code",
   "execution_count": 56,
   "metadata": {},
   "outputs": [],
   "source": [
    "starbucks= getStarbucks(\"San Francisco\")"
   ]
  },
  {
   "cell_type": "code",
   "execution_count": 57,
   "metadata": {},
   "outputs": [],
   "source": [
    "starbucks =starbucks[\"response\"]\n",
    "starbucks =starbucks[\"venues\"]"
   ]
  },
  {
   "cell_type": "code",
   "execution_count": 58,
   "metadata": {},
   "outputs": [],
   "source": [
    "name = [(e[\"name\"]) for e in starbucks]\n",
    "loc = [(e[\"location\"]) for e in starbucks]"
   ]
  },
  {
   "cell_type": "code",
   "execution_count": 59,
   "metadata": {},
   "outputs": [],
   "source": [
    "lat=[]\n",
    "lng=[]\n",
    "for e in loc:\n",
    "    lat.append(e[\"lat\"])\n",
    "    lng.append(e[\"lng\"])"
   ]
  },
  {
   "cell_type": "code",
   "execution_count": 60,
   "metadata": {},
   "outputs": [],
   "source": [
    "starbucks= pd.DataFrame(name)\n",
    "starbucks[\"name\"]=name\n",
    "starbucks[\"latitude\"]=lat\n",
    "starbucks[\"longitude\"]=lng\n",
    "starbucks = starbucks.drop([0], axis=1)"
   ]
  },
  {
   "cell_type": "code",
   "execution_count": 61,
   "metadata": {},
   "outputs": [],
   "source": [
    "starbucks=pd.DataFrame(starbucks).to_json(\"OUTPUT/starbucks.json\",orient=\"records\")\n"
   ]
  },
  {
   "cell_type": "code",
   "execution_count": 62,
   "metadata": {},
   "outputs": [],
   "source": [
    "starbucksF = pd.read_json(\"OUTPUT/starbucks.json\")"
   ]
  },
  {
   "cell_type": "code",
   "execution_count": 63,
   "metadata": {},
   "outputs": [
    {
     "data": {
      "text/html": [
       "<div style=\"width:100%;\"><div style=\"position:relative;width:100%;height:0;padding-bottom:60%;\"><iframe src=\"about:blank\" style=\"position:absolute;width:100%;height:100%;left:0;top:0;border:none !important;\" data-html=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 onload=\"this.contentDocument.open();this.contentDocument.write(atob(this.getAttribute('data-html')));this.contentDocument.close();\" allowfullscreen webkitallowfullscreen mozallowfullscreen></iframe></div></div>"
      ],
      "text/plain": [
       "<folium.folium.Map at 0x7fb4abe578d0>"
      ]
     },
     "execution_count": 63,
     "metadata": {},
     "output_type": "execute_result"
    }
   ],
   "source": [
    "sBucks= folium.FeatureGroup(name='Starbucks')\n",
    "HeatMap(starbucksF[['latitude', 'longitude']]).add_to(sBucks)\n",
    "sBucks.add_to(foliumMap)\n",
    "foliumMap"
   ]
  },
  {
   "cell_type": "code",
   "execution_count": 41,
   "metadata": {},
   "outputs": [],
   "source": [
    "foliumMap.save(\"OUTPUT/index.html\")"
   ]
  },
  {
   "cell_type": "markdown",
   "metadata": {},
   "source": [
    "# Lugar elegido"
   ]
  },
  {
   "cell_type": "markdown",
   "metadata": {},
   "source": [
    "Veo que los datos que he recogido según los mapas,por lo que he ordenado el dataframe de las oficinas más exitosas y escogido su mediana,para ver en que coordenadas se concentran más los datos. Los Starbucks se concentran en latitud y longitud parecidas, por lo que el punto escogido lo cojo por la media entre ambos puntos."
   ]
  },
  {
   "cell_type": "code",
   "execution_count": 42,
   "metadata": {},
   "outputs": [
    {
     "name": "stdout",
     "output_type": "stream",
     "text": [
      "Median:\n",
      " latitude      37.783171\n",
      "longitude   -122.400922\n",
      "dtype: float64\n"
     ]
    }
   ],
   "source": [
    "sortByLatM = million.sort_values('latitude')\n",
    "medianM =sortByLatM.median()\n",
    "print(\"Median:\\n\",medianM)"
   ]
  },
  {
   "cell_type": "code",
   "execution_count": 43,
   "metadata": {},
   "outputs": [
    {
     "name": "stdout",
     "output_type": "stream",
     "text": [
      "Median:\n",
      " latitude      37.785387\n",
      "longitude   -122.409748\n",
      "dtype: float64\n"
     ]
    }
   ],
   "source": [
    "sortByLatS = starbucksF.sort_values('latitude')\n",
    "medianS =sortByLatS.median()\n",
    "print(\"Median:\\n\",medianS)"
   ]
  },
  {
   "cell_type": "code",
   "execution_count": 44,
   "metadata": {},
   "outputs": [
    {
     "data": {
      "text/plain": [
       "[37.784278919325004, -122.40533450000001]"
      ]
     },
     "execution_count": 44,
     "metadata": {},
     "output_type": "execute_result"
    }
   ],
   "source": [
    "latResult=(medianM.latitude+medianS.latitude)/2\n",
    "lonResult=(medianM.longitude+medianS.longitude)/2\n",
    "result=[latResult,lonResult]\n",
    "result"
   ]
  },
  {
   "cell_type": "code",
   "execution_count": 48,
   "metadata": {},
   "outputs": [
    {
     "data": {
      "text/html": [
       "<div style=\"width:100%;\"><div style=\"position:relative;width:100%;height:0;padding-bottom:60%;\"><iframe src=\"about:blank\" style=\"position:absolute;width:100%;height:100%;left:0;top:0;border:none !important;\" data-html=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 onload=\"this.contentDocument.open();this.contentDocument.write(atob(this.getAttribute('data-html')));this.contentDocument.close();\" allowfullscreen webkitallowfullscreen mozallowfullscreen></iframe></div></div>"
      ],
      "text/plain": [
       "<folium.folium.Map at 0x7fb4abe578d0>"
      ]
     },
     "execution_count": 48,
     "metadata": {},
     "output_type": "execute_result"
    }
   ],
   "source": [
    "folium.Marker(result, popup='RESULT', tooltip=\"result\").add_to(foliumMap)\n",
    "foliumMap"
   ]
  },
  {
   "cell_type": "markdown",
   "metadata": {},
   "source": [
    "Tiene un StarBucks a menos de 200m y un aeropuerto a menos de 20km"
   ]
  },
  {
   "cell_type": "code",
   "execution_count": 46,
   "metadata": {},
   "outputs": [
    {
     "data": {
      "text/plain": [
       "{'meta': {'code': 200, 'requestId': '5e9e904547e0d6002826292d'},\n",
       " 'response': {'venues': [{'id': '57a0e506498e6c087e114f97',\n",
       "    'name': 'Starbucks',\n",
       "    'location': {'address': '865 Market St, C 26A',\n",
       "     'crossStreet': '5th street',\n",
       "     'lat': 37.78414314368152,\n",
       "     'lng': -122.40759611781183,\n",
       "     'labeledLatLngs': [{'label': 'display',\n",
       "       'lat': 37.78414314368152,\n",
       "       'lng': -122.40759611781183}],\n",
       "     'distance': 199,\n",
       "     'postalCode': '94103',\n",
       "     'cc': 'US',\n",
       "     'city': 'San Francisco',\n",
       "     'state': 'CA',\n",
       "     'country': 'United States',\n",
       "     'formattedAddress': ['865 Market St, C 26A (5th street)',\n",
       "      'San Francisco, CA 94103',\n",
       "      'United States']},\n",
       "    'categories': [{'id': '4bf58dd8d48988d1e0931735',\n",
       "      'name': 'Coffee Shop',\n",
       "      'pluralName': 'Coffee Shops',\n",
       "      'shortName': 'Coffee Shop',\n",
       "      'icon': {'prefix': 'https://ss3.4sqi.net/img/categories_v2/food/coffeeshop_',\n",
       "       'suffix': '.png'},\n",
       "      'primary': True}],\n",
       "    'referralId': 'v-1587450002',\n",
       "    'hasPerk': False},\n",
       "   {'id': '5075e479e4b013a8f7229859',\n",
       "    'name': 'Starbucks',\n",
       "    'location': {'address': '789 Mission St',\n",
       "     'crossStreet': 'at 4th St',\n",
       "     'lat': 37.78460482335003,\n",
       "     'lng': -122.40407784213264,\n",
       "     'labeledLatLngs': [{'label': 'display',\n",
       "       'lat': 37.78460482335003,\n",
       "       'lng': -122.40407784213264}],\n",
       "     'distance': 116,\n",
       "     'postalCode': '94103',\n",
       "     'cc': 'US',\n",
       "     'city': 'San Francisco',\n",
       "     'state': 'CA',\n",
       "     'country': 'United States',\n",
       "     'formattedAddress': ['789 Mission St (at 4th St)',\n",
       "      'San Francisco, CA 94103',\n",
       "      'United States']},\n",
       "    'categories': [{'id': '4bf58dd8d48988d1e0931735',\n",
       "      'name': 'Coffee Shop',\n",
       "      'pluralName': 'Coffee Shops',\n",
       "      'shortName': 'Coffee Shop',\n",
       "      'icon': {'prefix': 'https://ss3.4sqi.net/img/categories_v2/food/coffeeshop_',\n",
       "       'suffix': '.png'},\n",
       "      'primary': True}],\n",
       "    'referralId': 'v-1587450002',\n",
       "    'hasPerk': False},\n",
       "   {'id': '43bc02c3f964a520f42c1fe3',\n",
       "    'name': 'Starbucks',\n",
       "    'location': {'address': '780 Market St',\n",
       "     'crossStreet': 'at 4th St',\n",
       "     'lat': 37.78615912,\n",
       "     'lng': -122.4056946,\n",
       "     'labeledLatLngs': [{'label': 'display',\n",
       "       'lat': 37.78615912,\n",
       "       'lng': -122.4056946},\n",
       "      {'label': 'entrance', 'lat': 37.786176, 'lng': -122.405599}],\n",
       "     'distance': 211,\n",
       "     'postalCode': '94102',\n",
       "     'cc': 'US',\n",
       "     'city': 'San Francisco',\n",
       "     'state': 'CA',\n",
       "     'country': 'United States',\n",
       "     'formattedAddress': ['780 Market St (at 4th St)',\n",
       "      'San Francisco, CA 94102',\n",
       "      'United States']},\n",
       "    'categories': [{'id': '4bf58dd8d48988d1e0931735',\n",
       "      'name': 'Coffee Shop',\n",
       "      'pluralName': 'Coffee Shops',\n",
       "      'shortName': 'Coffee Shop',\n",
       "      'icon': {'prefix': 'https://ss3.4sqi.net/img/categories_v2/food/coffeeshop_',\n",
       "       'suffix': '.png'},\n",
       "      'primary': True}],\n",
       "    'referralId': 'v-1587450002',\n",
       "    'hasPerk': False}]}}"
      ]
     },
     "execution_count": 46,
     "metadata": {},
     "output_type": "execute_result"
    }
   ],
   "source": [
    "getNear(result[0],result[1],200,\"Starbucks\")"
   ]
  },
  {
   "cell_type": "code",
   "execution_count": 47,
   "metadata": {},
   "outputs": [
    {
     "data": {
      "text/plain": [
       "{'meta': {'code': 200, 'requestId': '5e9e91365fb726001b5c093b'},\n",
       " 'response': {'venues': [{'id': '41059b00f964a520850b1fe3',\n",
       "    'name': 'San Francisco International Airport (SFO) (San Francisco International Airport)',\n",
       "    'location': {'address': 'N McDonnell Rd',\n",
       "     'crossStreet': 'at Link Rd',\n",
       "     'lat': 37.6167130000997,\n",
       "     'lng': -122.38709449768066,\n",
       "     'labeledLatLngs': [{'label': 'display',\n",
       "       'lat': 37.6167130000997,\n",
       "       'lng': -122.38709449768066}],\n",
       "     'distance': 18722,\n",
       "     'postalCode': '94128',\n",
       "     'cc': 'US',\n",
       "     'city': 'San Francisco',\n",
       "     'state': 'CA',\n",
       "     'country': 'United States',\n",
       "     'formattedAddress': ['N McDonnell Rd (at Link Rd)',\n",
       "      'San Francisco, CA 94128',\n",
       "      'United States']},\n",
       "    'categories': [{'id': '4bf58dd8d48988d1ed931735',\n",
       "      'name': 'Airport',\n",
       "      'pluralName': 'Airports',\n",
       "      'shortName': 'Airport',\n",
       "      'icon': {'prefix': 'https://ss3.4sqi.net/img/categories_v2/travel/airport_',\n",
       "       'suffix': '.png'},\n",
       "      'primary': True}],\n",
       "    'referralId': 'v-1587450003',\n",
       "    'hasPerk': False},\n",
       "   {'id': '4493522af964a5207c341fe3',\n",
       "    'name': 'Oakland International Airport (OAK) (Oakland International Airport)',\n",
       "    'location': {'address': '1 Airport Dr',\n",
       "     'lat': 37.71151617933207,\n",
       "     'lng': -122.21352054664057,\n",
       "     'distance': 18726,\n",
       "     'postalCode': '94621',\n",
       "     'cc': 'US',\n",
       "     'city': 'Oakland',\n",
       "     'state': 'CA',\n",
       "     'country': 'United States',\n",
       "     'formattedAddress': ['1 Airport Dr',\n",
       "      'Oakland, CA 94621',\n",
       "      'United States']},\n",
       "    'categories': [{'id': '4bf58dd8d48988d1ed931735',\n",
       "      'name': 'Airport',\n",
       "      'pluralName': 'Airports',\n",
       "      'shortName': 'Airport',\n",
       "      'icon': {'prefix': 'https://ss3.4sqi.net/img/categories_v2/travel/airport_',\n",
       "       'suffix': '.png'},\n",
       "      'primary': True}],\n",
       "    'venuePage': {'id': '38600057'},\n",
       "    'referralId': 'v-1587450003',\n",
       "    'hasPerk': False},\n",
       "   {'id': '468ef191f964a52093481fe3',\n",
       "    'name': 'San Francisco International Airport BART Station',\n",
       "    'location': {'address': 'International Terminal',\n",
       "     'crossStreet': 'SFO Airport',\n",
       "     'lat': 37.61606711617044,\n",
       "     'lng': -122.39213705062865,\n",
       "     'labeledLatLngs': [{'label': 'display',\n",
       "       'lat': 37.61606711617044,\n",
       "       'lng': -122.39213705062865}],\n",
       "     'distance': 18761,\n",
       "     'postalCode': '94128',\n",
       "     'cc': 'US',\n",
       "     'neighborhood': 'San Francisco International Airport',\n",
       "     'city': 'San Francisco',\n",
       "     'state': 'CA',\n",
       "     'country': 'United States',\n",
       "     'formattedAddress': ['International Terminal (SFO Airport)',\n",
       "      'San Francisco, CA 94128',\n",
       "      'United States']},\n",
       "    'categories': [{'id': '4bf58dd8d48988d1fd931735',\n",
       "      'name': 'Metro Station',\n",
       "      'pluralName': 'Metro Stations',\n",
       "      'shortName': 'Metro',\n",
       "      'icon': {'prefix': 'https://ss3.4sqi.net/img/categories_v2/travel/subway_',\n",
       "       'suffix': '.png'},\n",
       "      'primary': True}],\n",
       "    'referralId': 'v-1587450003',\n",
       "    'hasPerk': False}]}}"
      ]
     },
     "execution_count": 47,
     "metadata": {},
     "output_type": "execute_result"
    }
   ],
   "source": [
    "getNear(result[0],result[1],20000,\"International Airport\")"
   ]
  },
  {
   "cell_type": "code",
   "execution_count": null,
   "metadata": {},
   "outputs": [],
   "source": []
  }
 ],
 "metadata": {
  "kernelspec": {
   "display_name": "Python 3",
   "language": "python",
   "name": "python3"
  },
  "language_info": {
   "codemirror_mode": {
    "name": "ipython",
    "version": 3
   },
   "file_extension": ".py",
   "mimetype": "text/x-python",
   "name": "python",
   "nbconvert_exporter": "python",
   "pygments_lexer": "ipython3",
   "version": "3.7.5"
  }
 },
 "nbformat": 4,
 "nbformat_minor": 4
}
